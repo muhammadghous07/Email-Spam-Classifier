{
 "cells": [
  {
   "cell_type": "code",
   "execution_count": null,
   "id": "b03cf618",
   "metadata": {},
   "outputs": [],
   "source": [
    "# Importing Liraries\n",
    "import pandas as pd \n",
    "import nltk, re \n",
    "from nltk.corpus import stopwords \n",
    "from nltk.stem import PorterStemmer\n",
    "from sklearn.feature_extraction.text import TfidfVectorizer,CountVectorizer\n",
    "from sklearn.model_selection import train_test_split\n",
    "from sklearn.linear_model import LogisticRegression\n",
    "from sklearn.naive_bayes import MultinomialNB \n",
    "from sklearn.svm import LinearSVC\n",
    "from sklearn.metrics import classification_report,confusion_matrix"
   ]
  },
  {
   "cell_type": "code",
   "execution_count": null,
   "id": "b69dde23",
   "metadata": {},
   "outputs": [
    {
     "name": "stderr",
     "output_type": "stream",
     "text": [
      "[nltk_data] Downloading package stopwords to C:\\Users\\M\n",
      "[nltk_data]     Ghous\\AppData\\Roaming\\nltk_data...\n",
      "[nltk_data]   Package stopwords is already up-to-date!\n"
     ]
    },
    {
     "data": {
      "text/plain": [
       "True"
      ]
     },
     "execution_count": 34,
     "metadata": {},
     "output_type": "execute_result"
    }
   ],
   "source": [
    "# Download stopword by using nltk\n",
    "nltk.download('stopwords')"
   ]
  },
  {
   "cell_type": "code",
   "execution_count": null,
   "id": "7f885ec2",
   "metadata": {},
   "outputs": [],
   "source": [
    "#Load dataset\n",
    "dataset=pd.read_csv('spam.csv')"
   ]
  },
  {
   "cell_type": "code",
   "execution_count": null,
   "id": "4a72aa20",
   "metadata": {},
   "outputs": [
    {
     "data": {
      "text/html": [
       "<div>\n",
       "<style scoped>\n",
       "    .dataframe tbody tr th:only-of-type {\n",
       "        vertical-align: middle;\n",
       "    }\n",
       "\n",
       "    .dataframe tbody tr th {\n",
       "        vertical-align: top;\n",
       "    }\n",
       "\n",
       "    .dataframe thead th {\n",
       "        text-align: right;\n",
       "    }\n",
       "</style>\n",
       "<table border=\"1\" class=\"dataframe\">\n",
       "  <thead>\n",
       "    <tr style=\"text-align: right;\">\n",
       "      <th></th>\n",
       "      <th>Category</th>\n",
       "      <th>Message</th>\n",
       "    </tr>\n",
       "  </thead>\n",
       "  <tbody>\n",
       "    <tr>\n",
       "      <th>0</th>\n",
       "      <td>ham</td>\n",
       "      <td>Go until jurong point, crazy.. Available only ...</td>\n",
       "    </tr>\n",
       "    <tr>\n",
       "      <th>1</th>\n",
       "      <td>ham</td>\n",
       "      <td>Ok lar... Joking wif u oni...</td>\n",
       "    </tr>\n",
       "    <tr>\n",
       "      <th>2</th>\n",
       "      <td>spam</td>\n",
       "      <td>Free entry in 2 a wkly comp to win FA Cup fina...</td>\n",
       "    </tr>\n",
       "    <tr>\n",
       "      <th>3</th>\n",
       "      <td>ham</td>\n",
       "      <td>U dun say so early hor... U c already then say...</td>\n",
       "    </tr>\n",
       "    <tr>\n",
       "      <th>4</th>\n",
       "      <td>ham</td>\n",
       "      <td>Nah I don't think he goes to usf, he lives aro...</td>\n",
       "    </tr>\n",
       "  </tbody>\n",
       "</table>\n",
       "</div>"
      ],
      "text/plain": [
       "  Category                                            Message\n",
       "0      ham  Go until jurong point, crazy.. Available only ...\n",
       "1      ham                      Ok lar... Joking wif u oni...\n",
       "2     spam  Free entry in 2 a wkly comp to win FA Cup fina...\n",
       "3      ham  U dun say so early hor... U c already then say...\n",
       "4      ham  Nah I don't think he goes to usf, he lives aro..."
      ]
     },
     "execution_count": 36,
     "metadata": {},
     "output_type": "execute_result"
    }
   ],
   "source": [
    "#Check top 5 dataset\n",
    "dataset.head()"
   ]
  },
  {
   "cell_type": "code",
   "execution_count": null,
   "id": "66ef9abf",
   "metadata": {},
   "outputs": [
    {
     "data": {
      "text/plain": [
       "Category\n",
       "ham     4825\n",
       "spam     747\n",
       "Name: count, dtype: int64"
      ]
     },
     "execution_count": 37,
     "metadata": {},
     "output_type": "execute_result"
    }
   ],
   "source": [
    "# Count spam or ham value\n",
    "dataset.Category.value_counts()"
   ]
  },
  {
   "cell_type": "code",
   "execution_count": null,
   "id": "2c1fb0e1",
   "metadata": {},
   "outputs": [],
   "source": [
    "# Using PoterStemmer for stemming\n",
    "ps=PorterStemmer()\n",
    "stop_words=set(stopwords.words('english'))"
   ]
  },
  {
   "cell_type": "code",
   "execution_count": null,
   "id": "bdfd2865",
   "metadata": {},
   "outputs": [],
   "source": [
    "# Preprocessing the dataset \n",
    "def preprocessing(text):\n",
    "    text=text.lower()\n",
    "    text=re.sub(r'[^a-zA-Z]',' ',text)\n",
    "    token=text.split()\n",
    "    token=[ps.stem(word) for word in token if word not in stop_words]\n",
    "    return ' '.join(token)\n",
    "dataset['clean_text']=dataset['Message'].apply(preprocessing)"
   ]
  },
  {
   "cell_type": "code",
   "execution_count": null,
   "id": "c25bbf3e",
   "metadata": {},
   "outputs": [],
   "source": [
    "# Map the category features 'ham or spam into 0 or 1'\n",
    "dataset['category_num']=dataset['Category'].map({'ham':0,'spam':1})"
   ]
  },
  {
   "cell_type": "code",
   "execution_count": null,
   "id": "2f4faf6e",
   "metadata": {},
   "outputs": [],
   "source": [
    "# used Tfidf Vectorizer for convert text into vector\n",
    "tfidf=TfidfVectorizer()\n",
    "X_tfidf=tfidf.fit_transform(dataset['clean_text'])"
   ]
  },
  {
   "cell_type": "code",
   "execution_count": null,
   "id": "d011a0d1",
   "metadata": {},
   "outputs": [],
   "source": [
    "# using bag of words to convert text into vector\n",
    "cv=CountVectorizer(binary=True,ngram_range=(3,3))\n",
    "X_cv=cv.fit_transform(dataset['clean_text'])"
   ]
  },
  {
   "cell_type": "code",
   "execution_count": null,
   "id": "481d3ace",
   "metadata": {},
   "outputs": [],
   "source": [
    "# Split the dataset and train data by using tfidf\n",
    "X_train,X_test,Y_train,Y_test=train_test_split(X_tfidf,dataset['category_num'],test_size=0.2,random_state=43)"
   ]
  },
  {
   "cell_type": "code",
   "execution_count": null,
   "id": "9cc85ea8",
   "metadata": {},
   "outputs": [],
   "source": [
    "# Deploy the model\n",
    "models={\n",
    "    'Naive_Bayes':MultinomialNB(),\n",
    "    'Logistic_Regression':LogisticRegression(),\n",
    "    'SVM':LinearSVC()\n",
    "}"
   ]
  },
  {
   "cell_type": "code",
   "execution_count": null,
   "id": "7f700df2",
   "metadata": {},
   "outputs": [
    {
     "name": "stdout",
     "output_type": "stream",
     "text": [
      "\n",
      "Naive_Bayes Results:\n",
      "[[952   0]\n",
      " [ 36 127]]\n",
      "              precision    recall  f1-score   support\n",
      "\n",
      "           0       0.96      1.00      0.98       952\n",
      "           1       1.00      0.78      0.88       163\n",
      "\n",
      "    accuracy                           0.97      1115\n",
      "   macro avg       0.98      0.89      0.93      1115\n",
      "weighted avg       0.97      0.97      0.97      1115\n",
      "\n",
      "\n",
      "Logistic_Regression Results:\n",
      "[[951   1]\n",
      " [ 44 119]]\n",
      "              precision    recall  f1-score   support\n",
      "\n",
      "           0       0.96      1.00      0.98       952\n",
      "           1       0.99      0.73      0.84       163\n",
      "\n",
      "    accuracy                           0.96      1115\n",
      "   macro avg       0.97      0.86      0.91      1115\n",
      "weighted avg       0.96      0.96      0.96      1115\n",
      "\n",
      "\n",
      "SVM Results:\n",
      "[[950   2]\n",
      " [ 18 145]]\n",
      "              precision    recall  f1-score   support\n",
      "\n",
      "           0       0.98      1.00      0.99       952\n",
      "           1       0.99      0.89      0.94       163\n",
      "\n",
      "    accuracy                           0.98      1115\n",
      "   macro avg       0.98      0.94      0.96      1115\n",
      "weighted avg       0.98      0.98      0.98      1115\n",
      "\n"
     ]
    }
   ],
   "source": [
    "# Create classification report and confusion matrix of all three models which used tfidf for dataset\n",
    "for name, model in models.items():\n",
    "    print(f\"\\n{name} Results:\")\n",
    "    model.fit(X_train, Y_train)\n",
    "    prediction = model.predict(X_test)\n",
    "    print(confusion_matrix(Y_test,prediction))\n",
    "    print(classification_report(Y_test,prediction))"
   ]
  },
  {
   "cell_type": "code",
   "execution_count": null,
   "id": "1af22f93",
   "metadata": {},
   "outputs": [],
   "source": [
    "# Split the dataset and train data by using bag of words\n",
    "X_train,X_test,Y_train,Y_test=train_test_split(X_cv,dataset['category_num'],test_size=0.2,random_state=43)"
   ]
  },
  {
   "cell_type": "code",
   "execution_count": null,
   "id": "ac54fedc",
   "metadata": {},
   "outputs": [],
   "source": [
    "# Deploy models\n",
    "models={\n",
    "    'Naive_Bayes':MultinomialNB(),\n",
    "    'Logistic_Regression':LogisticRegression(),\n",
    "    'SVM':LinearSVC()\n",
    "}"
   ]
  },
  {
   "cell_type": "code",
   "execution_count": null,
   "id": "19365577",
   "metadata": {},
   "outputs": [
    {
     "name": "stdout",
     "output_type": "stream",
     "text": [
      "\n",
      "Naive_Bayes Results:\n",
      "[[669 283]\n",
      " [  7 156]]\n",
      "              precision    recall  f1-score   support\n",
      "\n",
      "           0       0.99      0.70      0.82       952\n",
      "           1       0.36      0.96      0.52       163\n",
      "\n",
      "    accuracy                           0.74      1115\n",
      "   macro avg       0.67      0.83      0.67      1115\n",
      "weighted avg       0.90      0.74      0.78      1115\n",
      "\n",
      "\n",
      "Logistic_Regression Results:\n",
      "[[952   0]\n",
      " [ 81  82]]\n",
      "              precision    recall  f1-score   support\n",
      "\n",
      "           0       0.92      1.00      0.96       952\n",
      "           1       1.00      0.50      0.67       163\n",
      "\n",
      "    accuracy                           0.93      1115\n",
      "   macro avg       0.96      0.75      0.81      1115\n",
      "weighted avg       0.93      0.93      0.92      1115\n",
      "\n",
      "\n",
      "SVM Results:\n",
      "[[952   0]\n",
      " [ 75  88]]\n",
      "              precision    recall  f1-score   support\n",
      "\n",
      "           0       0.93      1.00      0.96       952\n",
      "           1       1.00      0.54      0.70       163\n",
      "\n",
      "    accuracy                           0.93      1115\n",
      "   macro avg       0.96      0.77      0.83      1115\n",
      "weighted avg       0.94      0.93      0.92      1115\n",
      "\n"
     ]
    }
   ],
   "source": [
    "# Create classification report and confusion matrix of all three models which used Bag of word for dataset\n",
    "for name, model in models.items():\n",
    "    print(f\"\\n{name} Results:\")\n",
    "    model.fit(X_train, Y_train)\n",
    "    prediction = model.predict(X_test)\n",
    "    print(confusion_matrix(Y_test,prediction))\n",
    "    print(classification_report(Y_test,prediction))"
   ]
  }
 ],
 "metadata": {
  "kernelspec": {
   "display_name": "Python 3",
   "language": "python",
   "name": "python3"
  },
  "language_info": {
   "codemirror_mode": {
    "name": "ipython",
    "version": 3
   },
   "file_extension": ".py",
   "mimetype": "text/x-python",
   "name": "python",
   "nbconvert_exporter": "python",
   "pygments_lexer": "ipython3",
   "version": "3.13.1"
  }
 },
 "nbformat": 4,
 "nbformat_minor": 5
}
